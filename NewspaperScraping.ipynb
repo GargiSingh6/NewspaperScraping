{
 "cells": [
  {
   "cell_type": "code",
   "execution_count": 181,
   "metadata": {},
   "outputs": [],
   "source": [
    "class Newspaper_Scraper():\n",
    "    def __init__(self,url):\n",
    "        self.url=url\n",
    "        import requests \n",
    "        data=requests.get(self.url)\n",
    "        from bs4 import BeautifulSoup\n",
    "        self.mainpage=BeautifulSoup(data.content,\"html.parser\")\n",
    "        title=(self.mainpage).find(\"title\")\n",
    "        title=title.get_text()\n",
    "        r=open(\"mainpage.txt\",\"w+\")\n",
    "        r.write(\"URL: https://www.telegraphindia.com/entertainment?ref=navbar_home-template\\n\\n\")\n",
    "        r.write(\"Title: \"+title+\" \\n\\n\\n\")\n",
    "        self.related_smurl=(self.mainpage).find(\"div\",{\"class\":\"social_share\"})\n",
    "        r.write(\"\\n\"+\"Related Social Media links: \\n\")\n",
    "        for link in (self.related_smurl).find_all(\"a\",href=True):\n",
    "            r.write(link[\"href\"]+\"\\n\")\n",
    "        r.write(\"\\n Major Sections:\"+\"\\n\")\n",
    "        self.allarticles=(self.mainpage).find_all(\"li\")\n",
    "        i=0\n",
    "        for a in self.allarticles :\n",
    "            if i<21:\n",
    "                r.write(a.get_text()+\"\\n\")\n",
    "                i=i+1\n",
    "        r=open(\"mainpage.txt\",\"r+\")\n",
    "        print(r.read())\n",
    "        \n",
    "        \n",
    "        image_url=\"https://www.telegraphindia.com/assets/images/logo.png?v=5\"\n",
    "        a=requests.get(image_url)\n",
    "        with open(\"TelegraphLogo.png\",'wb') as w:\n",
    "            w.write(a.content)\n",
    "        \n",
    "        \n",
    "        import json\n",
    "        f=open(\"mainpage.txt\",'r',encoding=\"UTF-8\")\n",
    "        p=f.read()\n",
    "        with open(\"mainpagejson.json\",'w') as f:\n",
    "            json.dump(p,f)\n",
    "        \n",
    "    def getsoup(self,url):\n",
    "        data=requests.get(url)\n",
    "        return BeautifulSoup(data.content)\n",
    "    def textfile(self,name):\n",
    "        pass\n",
    "    \n",
    "    \n",
    "\n",
    "        \n",
    "        \n",
    "        \n",
    "        \n",
    "    "
   ]
  },
  {
   "cell_type": "code",
   "execution_count": 182,
   "metadata": {},
   "outputs": [
    {
     "name": "stdout",
     "output_type": "stream",
     "text": [
      "URL: https://www.telegraphindia.com/entertainment?ref=navbar_home-template\n",
      "\n",
      "Title: Entertainment News - Latest Bollywood, Hollywood and TV Gossips - Telegraph India  \n",
      "\n",
      "\n",
      "\n",
      "Related Social Media links: \n",
      "https://www.facebook.com/thetelegraphindia\n",
      "https://twitter.com/ttindia\n",
      "https://www.instagram.com/telegraphonline/\n",
      "https://appurl.io/gJiSI_o7z\n",
      "https://appurl.io/ON5rLnFXn\n",
      "\n",
      " Major Sections:\n",
      "\n",
      " Home \n",
      " Opinion \n",
      " India \n",
      " Bengal \n",
      " World \n",
      " Business \n",
      " Science \n",
      " Technology \n",
      " Health \n",
      " Sport  Cricket  Horse Racing  Football   \n",
      "Cricket \n",
      "Horse Racing \n",
      "Football \n",
      " Entertainment \n",
      " Culture  People  Heritage  Style  Food  Travel  Books  Arts   \n",
      "People \n",
      "Heritage \n",
      "Style \n",
      "Food \n",
      "Travel \n",
      "\n"
     ]
    }
   ],
   "source": [
    "umm=Newspaper_Scraper(\"https://www.telegraphindia.com/entertainment?ref=navbar_home-template\")"
   ]
  },
  {
   "cell_type": "code",
   "execution_count": 68,
   "metadata": {},
   "outputs": [],
   "source": []
  },
  {
   "cell_type": "code",
   "execution_count": null,
   "metadata": {},
   "outputs": [],
   "source": []
  },
  {
   "cell_type": "code",
   "execution_count": null,
   "metadata": {},
   "outputs": [],
   "source": []
  },
  {
   "cell_type": "code",
   "execution_count": null,
   "metadata": {},
   "outputs": [],
   "source": []
  }
 ],
 "metadata": {
  "kernelspec": {
   "display_name": "Python 3",
   "language": "python",
   "name": "python3"
  },
  "language_info": {
   "codemirror_mode": {
    "name": "ipython",
    "version": 3
   },
   "file_extension": ".py",
   "mimetype": "text/x-python",
   "name": "python",
   "nbconvert_exporter": "python",
   "pygments_lexer": "ipython3",
   "version": "3.7.3"
  }
 },
 "nbformat": 4,
 "nbformat_minor": 2
}
